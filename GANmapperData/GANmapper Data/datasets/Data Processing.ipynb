{
 "cells": [
  {
   "cell_type": "markdown",
   "source": [
    "## Import TensorFlow and other libraries"
   ],
   "metadata": {
    "id": "e1_Y75QXJS6h"
   }
  },
  {
   "cell_type": "code",
   "execution_count": 1,
   "source": [
    "import glob\r\n",
    "import cv2\r\n",
    "import numpy as np\r\n",
    "import os\r\n",
    "import shutil\r\n",
    "from tqdm import tqdm\r\n",
    "from PIL import Image\r\n",
    "import random\r\n",
    "\r\n",
    "os.getcwd()"
   ],
   "outputs": [
    {
     "output_type": "execute_result",
     "data": {
      "text/plain": [
       "'d:\\\\UAL\\\\GANmapper\\\\datasets'"
      ]
     },
     "metadata": {},
     "execution_count": 1
    }
   ],
   "metadata": {
    "execution": {
     "iopub.execute_input": "2021-02-19T02:21:06.936890Z",
     "iopub.status.busy": "2021-02-19T02:21:06.936211Z",
     "iopub.status.idle": "2021-02-19T02:21:14.404840Z",
     "shell.execute_reply": "2021-02-19T02:21:14.405392Z"
    },
    "id": "YfIk2es3hJEd"
   }
  },
  {
   "cell_type": "code",
   "execution_count": 13,
   "source": [
    "!python train.py --dataroot .datasets/Exp5/Prepped/Paris15 --name Paris15 --model pix2pix --netG resnet_9blocks"
   ],
   "outputs": [
    {
     "output_type": "stream",
     "name": "stderr",
     "text": [
      "python: can't open file 'train.py': [Errno 2] No such file or directory\n"
     ]
    }
   ],
   "metadata": {}
  },
  {
   "cell_type": "markdown",
   "source": [
    "## Data Preprocessing"
   ],
   "metadata": {}
  },
  {
   "cell_type": "code",
   "execution_count": 5,
   "source": [
    "def load_img(target_path, source_path):\r\n",
    "    files_target = glob.glob(target_path + '\\*\\*\\*.png', recursive=True)\r\n",
    "    files_source = glob.glob(source_path + '\\*\\*\\*.png', recursive=True)\r\n",
    "    # files_source = []\r\n",
    "    # for i in files_target:\r\n",
    "    #     files_source.append(i.replace('Target', 'Black')) \r\n",
    "    print(str(len(files_target)) + ' target files found')\r\n",
    "    print(str(len(files_source)) + ' source files found')\r\n",
    "    print('Source file example :' + str(files_target[1]))\r\n",
    "    print('Source file example :' + str(files_source[1]))\r\n",
    "    return files_target, files_source"
   ],
   "outputs": [],
   "metadata": {}
  },
  {
   "cell_type": "markdown",
   "source": [
    "Singapore: 103.577807083,104.094114302,1.206208429,1.474625026 [EPSG:4326]"
   ],
   "metadata": {}
  },
  {
   "cell_type": "markdown",
   "source": [
    "# Clean Data\n",
    "1. Clean source images out of city bounds using landuse Data"
   ],
   "metadata": {}
  },
  {
   "cell_type": "code",
   "execution_count": 11,
   "source": [
    "# target_path = 'Experiment2\\\\14\\\\Target'\r\n",
    "# source_path = 'Experiment2\\\\14\\\\Source'\r\n",
    "# files_target, files_source = load_img(target_path, source_path)\r\n",
    "\r\n",
    "# # find all blank tiles\r\n",
    "# rm_list = []\r\n",
    "# for file in files_source:\r\n",
    "#     img = cv2.imread(file)\r\n",
    "#     if np.unique(img, return_counts=True)[1][0] == 786432:\r\n",
    "#         rm_list.append(file)"
   ],
   "outputs": [
    {
     "output_type": "stream",
     "name": "stdout",
     "text": [
      "350 target files found\n",
      "254 source files found\n",
      "Source file example :Experiment2\\14\\Target\\14\\12905\\8125.png\n",
      "Source file example :Experiment2\\14\\Source\\14\\12905\\8125.png\n"
     ]
    }
   ],
   "metadata": {}
  },
  {
   "cell_type": "code",
   "execution_count": 9,
   "source": [
    "# # get list of all blank tiles in all folders\r\n",
    "# rm_black = []\r\n",
    "# rm_color = []\r\n",
    "# rm_target = []\r\n",
    "# for i in rm_list:\r\n",
    "#     rm_black.append(i.replace('Landuse', 'Black')) \r\n",
    "#     rm_color.append(i.replace('Landuse', 'Color')) \r\n",
    "#     rm_target.append(i.replace('Landuse', 'Target')) \r\n",
    "# print('Black file example :' + str(rm_black[1]))\r\n",
    "# print('Color file example :' + str(rm_color[1]))\r\n",
    "# print('Targe file example :' + str(rm_target[1]))"
   ],
   "outputs": [
    {
     "output_type": "stream",
     "name": "stdout",
     "text": [
      "Black file example :Experiment2\\14\\Source\\14\\12905\\8134.png\n",
      "Color file example :Experiment2\\14\\Source\\14\\12905\\8134.png\n",
      "Targe file example :Experiment2\\14\\Source\\14\\12905\\8134.png\n"
     ]
    }
   ],
   "metadata": {}
  },
  {
   "cell_type": "code",
   "execution_count": 10,
   "source": [
    "# # remove all blank tiles\r\n",
    "# all_list = zip(rm_list, rm_black, rm_color, rm_target)\r\n",
    "# for f in all_list:\r\n",
    "#     os.remove(f[0])\r\n",
    "#     # os.remove(f[1])\r\n",
    "#     # os.remove(f[2])\r\n",
    "#     # os.remove(f[3])"
   ],
   "outputs": [],
   "metadata": {}
  },
  {
   "cell_type": "markdown",
   "source": [
    "## Stitch Datasets"
   ],
   "metadata": {}
  },
  {
   "cell_type": "code",
   "execution_count": 27,
   "source": [
    "def combine_target_mask(mask_file_path, target_file_path, threshold):\r\n",
    "    img1 = cv2.imread(mask_file_path)\r\n",
    "    img2 = cv2.imread(target_file_path)\r\n",
    "\r\n",
    "    # resize\r\n",
    "    img1 = cv2.resize(img1, (256,256))    \r\n",
    "    img2 = cv2.resize(img2, (256,256))    \r\n",
    "\r\n",
    "    # only take valid target with sufficient buildings     \r\n",
    "    if np.unique(img2, return_counts=True)[1][-1] < threshold:   \r\n",
    "        h1, w1 = img1.shape[:2]\r\n",
    "        h2, w2 = img2.shape[:2]\r\n",
    "        #create empty matrix\r\n",
    "        vis = np.zeros((max(h1, h2), w1+w2,3), np.uint8)\r\n",
    "        #combine 2 images\r\n",
    "        vis[:h1, :w1,:3] = img1\r\n",
    "        vis[:h2, w1:w1+w2,:3] = img2\r\n",
    "    else:\r\n",
    "        vis = None\r\n",
    "    return vis"
   ],
   "outputs": [],
   "metadata": {}
  },
  {
   "cell_type": "code",
   "execution_count": null,
   "source": [
    "# threshold for zoom 16 = 170000\r\n",
    "# threshold for zoom 15 = 180000"
   ],
   "outputs": [],
   "metadata": {}
  },
  {
   "cell_type": "code",
   "execution_count": 39,
   "source": [
    "key = 'Kediri'\r\n",
    "target_path = 'Exp5\\\\'+ key +'\\\\Target'\r\n",
    "source_path = target_path.replace('Target', 'Source')\r\n",
    "files_target, files_source = load_img(target_path, source_path)"
   ],
   "outputs": [
    {
     "output_type": "stream",
     "name": "stdout",
     "text": [
      "20 target files found\n",
      "20 source files found\n",
      "Source file example :Exp5\\Kediri\\Target\\17\\106316\\68390.png\n",
      "Source file example :Exp5\\Kediri\\Source\\17\\106316\\68390.png\n"
     ]
    }
   ],
   "metadata": {}
  },
  {
   "cell_type": "code",
   "execution_count": 40,
   "source": [
    "count = 0\r\n",
    "output_folder = 'Exp5/Prepped/' + key +'/'\r\n",
    "try:\r\n",
    "    os.makedirs(output_folder)\r\n",
    "except:\r\n",
    "    pass\r\n",
    "for i, x in enumerate(zip(files_source, files_target)):\r\n",
    "    # if i >= 50: break\r\n",
    "    source, target = x\r\n",
    "    output = combine_target_mask(source, target, 170000)\r\n",
    "    if output is not None:\r\n",
    "        cv2.imwrite(output_folder + str(i) + '.png', output)\r\n",
    "        count += 1\r\n",
    "print(str(count) + ' out of ' + str(len(files_source)) + ' files processed')"
   ],
   "outputs": [
    {
     "output_type": "stream",
     "name": "stdout",
     "text": [
      "18 out of 20 files processed\n"
     ]
    }
   ],
   "metadata": {}
  },
  {
   "cell_type": "code",
   "execution_count": 41,
   "source": [
    "# test output\r\n",
    "output = combine_target_mask(files_source[888], files_target[888],160000)\r\n",
    "img = cv2.cvtColor(output, cv2.COLOR_BGR2RGB)\r\n",
    "im_pil = Image.fromarray(img)\r\n",
    "im_pil.show()"
   ],
   "outputs": [
    {
     "output_type": "error",
     "ename": "IndexError",
     "evalue": "list index out of range",
     "traceback": [
      "\u001b[1;31m---------------------------------------------------------------------------\u001b[0m",
      "\u001b[1;31mIndexError\u001b[0m                                Traceback (most recent call last)",
      "\u001b[1;32m<ipython-input-41-7377bd4bb4c1>\u001b[0m in \u001b[0;36m<module>\u001b[1;34m\u001b[0m\n\u001b[0;32m      1\u001b[0m \u001b[1;31m# test output\u001b[0m\u001b[1;33m\u001b[0m\u001b[1;33m\u001b[0m\u001b[1;33m\u001b[0m\u001b[0m\n\u001b[1;32m----> 2\u001b[1;33m \u001b[0moutput\u001b[0m \u001b[1;33m=\u001b[0m \u001b[0mcombine_target_mask\u001b[0m\u001b[1;33m(\u001b[0m\u001b[0mfiles_source\u001b[0m\u001b[1;33m[\u001b[0m\u001b[1;36m888\u001b[0m\u001b[1;33m]\u001b[0m\u001b[1;33m,\u001b[0m \u001b[0mfiles_target\u001b[0m\u001b[1;33m[\u001b[0m\u001b[1;36m888\u001b[0m\u001b[1;33m]\u001b[0m\u001b[1;33m,\u001b[0m\u001b[1;36m160000\u001b[0m\u001b[1;33m)\u001b[0m\u001b[1;33m\u001b[0m\u001b[1;33m\u001b[0m\u001b[0m\n\u001b[0m\u001b[0;32m      3\u001b[0m \u001b[0mimg\u001b[0m \u001b[1;33m=\u001b[0m \u001b[0mcv2\u001b[0m\u001b[1;33m.\u001b[0m\u001b[0mcvtColor\u001b[0m\u001b[1;33m(\u001b[0m\u001b[0moutput\u001b[0m\u001b[1;33m,\u001b[0m \u001b[0mcv2\u001b[0m\u001b[1;33m.\u001b[0m\u001b[0mCOLOR_BGR2RGB\u001b[0m\u001b[1;33m)\u001b[0m\u001b[1;33m\u001b[0m\u001b[1;33m\u001b[0m\u001b[0m\n\u001b[0;32m      4\u001b[0m \u001b[0mim_pil\u001b[0m \u001b[1;33m=\u001b[0m \u001b[0mImage\u001b[0m\u001b[1;33m.\u001b[0m\u001b[0mfromarray\u001b[0m\u001b[1;33m(\u001b[0m\u001b[0mimg\u001b[0m\u001b[1;33m)\u001b[0m\u001b[1;33m\u001b[0m\u001b[1;33m\u001b[0m\u001b[0m\n\u001b[0;32m      5\u001b[0m \u001b[0mim_pil\u001b[0m\u001b[1;33m.\u001b[0m\u001b[0mshow\u001b[0m\u001b[1;33m(\u001b[0m\u001b[1;33m)\u001b[0m\u001b[1;33m\u001b[0m\u001b[1;33m\u001b[0m\u001b[0m\n",
      "\u001b[1;31mIndexError\u001b[0m: list index out of range"
     ]
    }
   ],
   "metadata": {}
  },
  {
   "cell_type": "markdown",
   "source": [
    "## 3. train-test-val split"
   ],
   "metadata": {}
  },
  {
   "cell_type": "code",
   "execution_count": 42,
   "source": [
    "def train_test_split(file_list, train_size = 0.7):\r\n",
    "    random.Random(123).shuffle(file_list)\r\n",
    "    train_stop = int(len(file_list)*train_size)\r\n",
    "    test_stop = int((len(file_list) - train_stop)/2)\r\n",
    "    train_data = file_list[:train_stop]\r\n",
    "    test_data = file_list[train_stop: train_stop + test_stop]\r\n",
    "    val_data = file_list[train_stop + test_stop:]\r\n",
    "    return train_data, test_data, val_data"
   ],
   "outputs": [],
   "metadata": {}
  },
  {
   "cell_type": "code",
   "execution_count": 43,
   "source": [
    "file_list = glob.glob(output_folder + '/*.png')\r\n",
    "train_data, test_data, val_data = train_test_split(file_list, train_size = 0.95)"
   ],
   "outputs": [],
   "metadata": {}
  },
  {
   "cell_type": "code",
   "execution_count": 44,
   "source": [
    "for i in train_data:\r\n",
    "    if not os.path.exists(output_folder+'/train'):\r\n",
    "        os.makedirs(output_folder+'/train')\r\n",
    "    shutil.move(i, output_folder+'/train')\r\n",
    "\r\n",
    "for i in test_data:\r\n",
    "    if not os.path.exists(output_folder+'/test'):\r\n",
    "        os.makedirs(output_folder+'/test')\r\n",
    "    shutil.move(i, output_folder+'/test')\r\n",
    "\r\n",
    "for i in val_data:\r\n",
    "    if not os.path.exists(output_folder+'/val'):\r\n",
    "        os.makedirs(output_folder+'/val')\r\n",
    "    shutil.move(i, output_folder+'/val')\r\n",
    "\r\n",
    "# for i in file_list:\r\n",
    "#     if not os.path.exists(output_folder+'/full'):\r\n",
    "#         os.makedirs(output_folder+'/full')\r\n",
    "#     shutil.move(i, output_folder+'/full')"
   ],
   "outputs": [],
   "metadata": {}
  },
  {
   "cell_type": "code",
   "execution_count": 97,
   "source": [
    "#remove road pixels\r\n",
    "img1 = \"D:\\\\UAL\\\\GANmapper Repo\\\\results\\\\Beijing\\\\test_latest\\\\images\\\\fake\\\\16\\\\53929\\\\24811.png\"\r\n",
    "\r\n",
    "img2 = \"D:\\\\UAL\\\\GANmapper Repo\\\\results\\\\Beijing\\\\test_latest\\\\images\\\\real\\\\16\\\\53929\\\\\\\\24811.png\"\r\n",
    "\r\n",
    "def convert_binary(img_path):\r\n",
    "    img = cv2.imread(img_path)\r\n",
    "    img = cv2.cvtColor(img, cv2.COLOR_BGR2GRAY)\r\n",
    "    thresh, img = cv2.threshold(img, 128, 255, cv2.THRESH_OTSU)\r\n",
    "    return img\r\n",
    "\r\n",
    "img1 = convert_binary(img1)\r\n",
    "img2 = convert_binary(img2)\r\n",
    "diff = cv2.absdiff(img1, img2)\r\n",
    "cv2.imwrite(\"result.png\", img1)\r\n",
    "cv2.imwrite(\"result2.png\", img2)\r\n",
    "cv2.imwrite(\"result3.png\", diff)"
   ],
   "outputs": [
    {
     "output_type": "execute_result",
     "data": {
      "text/plain": [
       "True"
      ]
     },
     "metadata": {},
     "execution_count": 97
    }
   ],
   "metadata": {}
  },
  {
   "cell_type": "code",
   "execution_count": 58,
   "source": [
    "ret, bw_img = cv2.threshold(img2,254,255,cv2.THRESH_BINARY)\r\n",
    "cv2.imshow(\"Binary Image\",bw_img)\r\n",
    "cv2.waitKey(0)\r\n",
    "cv2.destroyAllWindows()"
   ],
   "outputs": [],
   "metadata": {}
  },
  {
   "cell_type": "code",
   "execution_count": null,
   "source": [
    "diff = cv2.absdiff(img1, img2)\r\n",
    "mask = cv2.cvtColor(diff, cv2.COLOR_BGR2GRAY)\r\n",
    "\r\n",
    "th = 1\r\n",
    "imask =  mask>th\r\n",
    "\r\n",
    "canvas = np.zeros_like(img2, np.uint8)\r\n",
    "canvas[imask] = img2[imask]\r\n",
    "cv2.imwrite(\"result.png\", diff)"
   ],
   "outputs": [],
   "metadata": {}
  },
  {
   "cell_type": "code",
   "execution_count": 4,
   "source": [
    "# stitch for prediction\r\n",
    "key = 'LA'\r\n",
    "target_path = 'Exp4\\\\'+ key +'\\\\Target'\r\n",
    "source_path = target_path.replace('Target', 'Source')\r\n",
    "files_target, files_source = load_img(target_path, source_path)"
   ],
   "outputs": [
    {
     "output_type": "stream",
     "name": "stdout",
     "text": [
      "36 target files found\n",
      "36 source files found\n",
      "Source file example :Exp4\\LA\\Target\\16\\11237\\26166.png\n",
      "Source file example :Exp4\\LA\\Source\\16\\11237\\26166.png\n"
     ]
    }
   ],
   "metadata": {}
  },
  {
   "cell_type": "code",
   "execution_count": 8,
   "source": [
    "count = 0\r\n",
    "output_folder = 'Exp4/' + key +'/stitched'\r\n",
    "try:\r\n",
    "    os.makedirs(output_folder)\r\n",
    "except:\r\n",
    "    pass\r\n",
    "for i, x in enumerate(zip(files_source, files_target)):\r\n",
    "    # if i >= 50: break\r\n",
    "    source, target = x\r\n",
    "    output = combine_target_mask(source, target, 170000)\r\n",
    "    if output is not None:\r\n",
    "        cv2.imwrite(output_folder + str(i) + '.png', output)\r\n",
    "        count += 1\r\n",
    "print(str(count) + ' out of ' + str(len(files_source)) + ' files processed')"
   ],
   "outputs": [
    {
     "output_type": "stream",
     "name": "stdout",
     "text": [
      "0 out of 36 files processed\n"
     ]
    }
   ],
   "metadata": {}
  }
 ],
 "metadata": {
  "accelerator": "GPU",
  "colab": {
   "collapsed_sections": [],
   "name": "pix2pix.ipynb",
   "toc_visible": true
  },
  "interpreter": {
   "hash": "0bdf7c494340e1c0c237e8c6a376eeb13b7d22ef103c37a9db899e4a7da3942d"
  },
  "kernelspec": {
   "display_name": "Python 3.8.10 64-bit ('t': conda)",
   "name": "python3"
  },
  "language_info": {
   "codemirror_mode": {
    "name": "ipython",
    "version": 3
   },
   "file_extension": ".py",
   "mimetype": "text/x-python",
   "name": "python",
   "nbconvert_exporter": "python",
   "pygments_lexer": "ipython3",
   "version": "3.8.10"
  }
 },
 "nbformat": 4,
 "nbformat_minor": 2
}